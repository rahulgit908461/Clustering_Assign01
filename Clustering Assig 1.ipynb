{
 "cells": [
  {
   "cell_type": "code",
   "execution_count": 1,
   "id": "0d1b46a5-d4e7-49b1-bc68-07010ddd5afe",
   "metadata": {},
   "outputs": [],
   "source": [
    "#Q1. What are the different types of clustering algorithms, and how do they differ in terms of their approach\n",
    "#and underlying assumptions?"
   ]
  },
  {
   "cell_type": "code",
   "execution_count": 3,
   "id": "eaae4827-199c-4c77-acdc-b708f10ff21a",
   "metadata": {},
   "outputs": [],
   "source": [
    "#k-means is the most widely-used centroid-based clustering algorithm. Centroid-based algorithms are efficient but \n",
    "#sensitive to initial conditions and outliers.\n",
    "#Types of Cluster Analysis\n",
    "#Centroid-based Clustering. In this type of clustering, clusters are represented by a central entity, which may or\n",
    "#may not be a part of the given data set.\n",
    "#Distribution-based Clustering.\n",
    "#Density-based Clustering."
   ]
  },
  {
   "cell_type": "code",
   "execution_count": 4,
   "id": "8bc26e88-a434-417b-8156-c3559b5bf365",
   "metadata": {},
   "outputs": [],
   "source": [
    "#Q2.What is K-means clustering, and how does it work?"
   ]
  },
  {
   "cell_type": "code",
   "execution_count": 5,
   "id": "85a9bcf4-fd27-4a05-a277-cf84a78a698d",
   "metadata": {},
   "outputs": [],
   "source": [
    "#K-Means clustering is an unsupervised learning algorithm. There is no labeled data for this clustering,\n",
    "#unlike in supervised learning. K-Means performs the division of objects into clusters that share similarities \n",
    "#and are dissimilar to the objects belonging to another cluster."
   ]
  },
  {
   "cell_type": "code",
   "execution_count": 6,
   "id": "871705d0-c84e-4a0a-8c64-c93fb4ee7274",
   "metadata": {},
   "outputs": [],
   "source": [
    "#Q3. What are some advantages and limitations of K-means clustering compared to other clustering\n",
    "#techniques?"
   ]
  },
  {
   "cell_type": "code",
   "execution_count": 7,
   "id": "0a7d1bff-56ed-4c17-a17a-6d36c551d6a3",
   "metadata": {},
   "outputs": [],
   "source": [
    "#It is very easy to understand and implement. If we have large number of variables then, K-means would be faster \n",
    "#than Hierarchical clustering. On re-computation of centroids, an instance can change the cluster. Tighter clusters \n",
    "#are formed with K-means as compared to Hierarchical clustering."
   ]
  },
  {
   "cell_type": "code",
   "execution_count": 8,
   "id": "6d6de717-dd6b-4a84-a0ea-f8af7f18eba7",
   "metadata": {},
   "outputs": [],
   "source": [
    "#Q4. How do you determine the optimal number of clusters in K-means clustering, and what are some\n",
    "#common methods for doing so?"
   ]
  },
  {
   "cell_type": "code",
   "execution_count": 9,
   "id": "8c691438-f84c-408b-8d9d-56f6e4afbf08",
   "metadata": {},
   "outputs": [],
   "source": [
    "#The silhouette coefficient may provide a more objective means to determine the optimal number of clusters. \n",
    "#This is done by simply calculating the silhouette coefficient over a range of k, & identifying the peak as \n",
    "#optimum K."
   ]
  },
  {
   "cell_type": "code",
   "execution_count": 10,
   "id": "8e5c524b-9ee2-4e1b-9302-ead239c1a96e",
   "metadata": {},
   "outputs": [],
   "source": [
    "#Q5. What are some applications of K-means clustering in real-world scenarios, and how has it been used\n",
    "#to solve specific problems?"
   ]
  },
  {
   "cell_type": "code",
   "execution_count": 11,
   "id": "4c6fed55-a50a-4c46-9bec-24fa3233761d",
   "metadata": {},
   "outputs": [],
   "source": [
    "#Real-life examples include spam detection, sentiment analysis, scorecard prediction of exams, etc.\n",
    "#2) Regression Models – Regression models are used for problems where the output variable is a real value such as a \n",
    "#unique number, dollars, salary, weight or pressure, for example."
   ]
  },
  {
   "cell_type": "code",
   "execution_count": 12,
   "id": "e56a9aa3-f335-4b66-9995-64df82988880",
   "metadata": {},
   "outputs": [],
   "source": [
    "#Q6. How do you interpret the output of a K-means clustering algorithm, and what insights can you derive\n",
    "#from the resulting clusters?"
   ]
  },
  {
   "cell_type": "code",
   "execution_count": 14,
   "id": "6bd42c81-2f92-4624-ae30-d7d9d58b729f",
   "metadata": {},
   "outputs": [],
   "source": [
    "#Interpreting the meaning of k-means clusters boils down to characterizing the clusters. A Parallel Coordinates Plot\n",
    "#allows us to see how individual data points sit across all variables. By looking at how the values for each \n",
    "#variable compare across clusters, we can get a sense of what each cluster represents.\n",
    "#The output of kmeans is a list with several bits of information. The most important being: cluster : A vector of \n",
    "#integers (from 1:k) indicating the cluster to which each point is allocated. centers : A matrix of cluster centers."
   ]
  },
  {
   "cell_type": "code",
   "execution_count": 15,
   "id": "244e9476-f13f-4df8-af7e-1fe1c86dc776",
   "metadata": {},
   "outputs": [],
   "source": [
    "#Q7. What are some common challenges in implementing K-means clustering, and how can you address\n",
    "#them?"
   ]
  },
  {
   "cell_type": "code",
   "execution_count": 16,
   "id": "d3a46274-1839-4265-8cdb-8b3c8059f66a",
   "metadata": {},
   "outputs": [],
   "source": [
    "#k-means has trouble clustering data where clusters are of varying sizes and density. To cluster such data, you need\n",
    "#to generalize k-means as described in the Advantages section. Clustering outliers. Centroids can be dragged by\n",
    "#outliers, or outliers might get their own cluster instead of being ignored.\n",
    "\n",
    "#The cluster membership may change over time due to dynamic shifts in data.\n",
    "#Handling outliers is difficult in cluster analysis.\n",
    "#Clustering struggles with high-dimensional datasets.\n",
    "#Multiple correct answers for the same problem.\n",
    "#Evaluating a solution's correctness is problematic."
   ]
  },
  {
   "cell_type": "code",
   "execution_count": 17,
   "id": "1f21b8c6-d57a-4a23-8583-c4d1d3db795b",
   "metadata": {},
   "outputs": [],
   "source": [
    "#Good"
   ]
  },
  {
   "cell_type": "code",
   "execution_count": null,
   "id": "f660efa7-bf50-4629-985c-b63fd7824c24",
   "metadata": {},
   "outputs": [],
   "source": []
  },
  {
   "cell_type": "code",
   "execution_count": null,
   "id": "8350907e-cbec-43a7-879d-4f81e0bd13a8",
   "metadata": {},
   "outputs": [],
   "source": []
  },
  {
   "cell_type": "code",
   "execution_count": null,
   "id": "5f609fcc-230a-4c78-87a8-d4c5542d6652",
   "metadata": {},
   "outputs": [],
   "source": []
  },
  {
   "cell_type": "code",
   "execution_count": null,
   "id": "18d3460e-f8e5-4b26-b23a-fd3ae085ce69",
   "metadata": {},
   "outputs": [],
   "source": []
  }
 ],
 "metadata": {
  "kernelspec": {
   "display_name": "Python 3 (ipykernel)",
   "language": "python",
   "name": "python3"
  },
  "language_info": {
   "codemirror_mode": {
    "name": "ipython",
    "version": 3
   },
   "file_extension": ".py",
   "mimetype": "text/x-python",
   "name": "python",
   "nbconvert_exporter": "python",
   "pygments_lexer": "ipython3",
   "version": "3.10.8"
  }
 },
 "nbformat": 4,
 "nbformat_minor": 5
}
